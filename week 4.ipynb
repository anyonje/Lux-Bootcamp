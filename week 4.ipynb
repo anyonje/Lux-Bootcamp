{
 "cells": [
  {
   "cell_type": "markdown",
   "id": "8c07b89e-f81a-4092-b6a4-0cd6118711b5",
   "metadata": {},
   "source": [
    "## 1.  Write a Python program to check whether a string is a palindrome or not using a stack."
   ]
  },
  {
   "cell_type": "code",
   "execution_count": 3,
   "id": "47423e39-2d82-4fdd-aeb4-3d61c6a016e3",
   "metadata": {},
   "outputs": [
    {
     "name": "stdout",
     "output_type": "stream",
     "text": [
      "level is a palindrome.\n"
     ]
    }
   ],
   "source": [
    "class Stack:\n",
    "\tdef __init__(self):\n",
    "\t\tself.items = []\n",
    "\n",
    "\tdef push(self, item):\n",
    "\t\tself.items.append(item)\n",
    "\n",
    "\tdef pop(self):\n",
    "\t\treturn self.items.pop() if not self.is_empty() else None\n",
    "\n",
    "\tdef is_empty(self):\n",
    "\t\treturn len(self.items) == 0\n",
    "\n",
    "# Function to check palindrome using a stack\n",
    "def is_palindrome(s):\n",
    "\tstack = Stack()\n",
    "\n",
    "\t# Push each character onto the stack\n",
    "\tfor char in s:\n",
    "\t\tstack.push(char)\n",
    "\n",
    "\t# Pop characters from the stack and compare with the string\n",
    "\tfor char in s:\n",
    "\t\tif char != stack.pop():\n",
    "\t\t\treturn False\n",
    "\n",
    "\treturn True\n",
    "\n",
    "# Example usage\n",
    "input_string = \"level\"\n",
    "result = is_palindrome(input_string.lower()) # Convert to lowercase for case-insensitivity\n",
    "if result:\n",
    "\tprint(f\"{input_string} is a palindrome.\")\n",
    "else:\n",
    "\tprint(f\"{input_string} is not a palindrome.\")\n"
   ]
  },
  {
   "cell_type": "markdown",
   "id": "8c1b50e1-a39d-4bcc-9821-e5976210e779",
   "metadata": {},
   "source": [
    "## 2. Explain the concept of list comprehension in Python with at least three examples."
   ]
  },
  {
   "cell_type": "markdown",
   "id": "82146a8d-7cb1-4241-be96-d8e1b077f0d2",
   "metadata": {},
   "source": [
    "List comprehension provides a shorter syntax when you want to generate a new list based on the values of an existing list."
   ]
  },
  {
   "cell_type": "code",
   "execution_count": 1,
   "id": "7467f792-4e48-46e6-a6ed-12aea4067586",
   "metadata": {},
   "outputs": [
    {
     "data": {
      "text/plain": [
       "['yellow', 'white']"
      ]
     },
     "execution_count": 1,
     "metadata": {},
     "output_type": "execute_result"
    }
   ],
   "source": [
    "#Example 1\n",
    "colors = ['red', 'blue','yellow', 'white']\n",
    "newlist = [x for x in colors if 'w' in x]\n",
    "newlist"
   ]
  },
  {
   "cell_type": "code",
   "execution_count": null,
   "id": "633fa95c-c3e0-40e4-862c-f5215aeab0fc",
   "metadata": {},
   "outputs": [],
   "source": [
    "In the above example list comprehension has enabled us to create a new list of colors with only letter 'w' in the name. We have done so with only one line of code."
   ]
  },
  {
   "cell_type": "code",
   "execution_count": 7,
   "id": "e574369a-cea3-4abd-9521-0637f8e3bcda",
   "metadata": {},
   "outputs": [
    {
     "data": {
      "text/plain": [
       "['Nairobi', 'Kigali', 'Mogadishu']"
      ]
     },
     "execution_count": 7,
     "metadata": {},
     "output_type": "execute_result"
    }
   ],
   "source": [
    "#Example 2\n",
    "cities = ['Nairobi', 'Kigali', 'Kampala', 'Mogadishu']\n",
    "newlist = [x for x in cities if x!= 'Kampala']\n",
    "newlist"
   ]
  },
  {
   "cell_type": "code",
   "execution_count": null,
   "id": "c915986d-08a7-49e0-ba37-5a63d414cd21",
   "metadata": {},
   "outputs": [],
   "source": [
    "List comprehension has enabled us to generate a new list of cities that do not contain Kampala in it."
   ]
  },
  {
   "cell_type": "code",
   "execution_count": 9,
   "id": "97b233f6-720f-4f8a-a386-9ebaf78ba45a",
   "metadata": {},
   "outputs": [
    {
     "data": {
      "text/plain": [
       "['NAIROBI', 'KIGALI', 'KAMPALA', 'MOGADISHU']"
      ]
     },
     "execution_count": 9,
     "metadata": {},
     "output_type": "execute_result"
    }
   ],
   "source": [
    "#Example 3\n",
    "cities = ['Nairobi', 'Kigali', 'Kampala', 'Mogadishu']\n",
    "newlist = [x.upper() for x in cities]\n",
    "newlist"
   ]
  },
  {
   "cell_type": "code",
   "execution_count": null,
   "id": "3e576293-5828-4760-bee0-05b5ca47adad",
   "metadata": {},
   "outputs": [],
   "source": [
    "List comprehension has enabled us to write the above list in capital letters with only one line of code."
   ]
  },
  {
   "cell_type": "markdown",
   "id": "781d77d6-6fca-4d50-88bd-ac98902f5c45",
   "metadata": {},
   "source": [
    "## 3. Explain what a compound datatype is in Python with three examples."
   ]
  },
  {
   "cell_type": "code",
   "execution_count": null,
   "id": "9085d8ce-b594-4d77-a265-d3078f7fa611",
   "metadata": {},
   "outputs": [],
   "source": [
    "A compound data type is a data type that can hold different values or elements. Examples of these kind of data types include lists, tuples and dictionaries."
   ]
  },
  {
   "cell_type": "code",
   "execution_count": null,
   "id": "55ac3ad6-bb04-437e-be87-dca5be96c156",
   "metadata": {},
   "outputs": [],
   "source": [
    "#List example\n",
    "my_list = [5, 'tomorrow', 13.5, False]\n",
    "#tuple example\n",
    "my_tuple = (50, 'Hello', True)\n",
    "#dictionary example\n",
    "my_dict = {'Name':'John', 'Weight': 75.3, Age: 28, is_student: False}"
   ]
  },
  {
   "cell_type": "markdown",
   "id": "5573033c-5503-40e9-8a4c-f05125f36fb2",
   "metadata": {},
   "source": [
    "## 4. Write a function that takes a string and returns a list of bigrams."
   ]
  },
  {
   "cell_type": "code",
   "execution_count": 13,
   "id": "07d41203-6e0d-4de1-95e9-3aa770b72548",
   "metadata": {},
   "outputs": [
    {
     "name": "stdout",
     "output_type": "stream",
     "text": [
      "[('Today', 'was'), ('was', 'a'), ('a', 'good'), ('good', 'day')]\n"
     ]
    }
   ],
   "source": [
    "def get_bigrams(text):\n",
    "    # Split the text into words (tokens)\n",
    "    words = text.split()\n",
    "    \n",
    "    # Create a list of bigrams using list comprehension\n",
    "    bigrams = [(words[i], words[i+1]) for i in range(len(words)-1)]\n",
    "    \n",
    "    return bigrams\n",
    "\n",
    "# Example usage\n",
    "text = \"Today was a good day\"\n",
    "bigrams = get_bigrams(text)\n",
    "print(bigrams)"
   ]
  },
  {
   "cell_type": "markdown",
   "id": "17b1361b-59b1-42e1-8b50-b7168f6354be",
   "metadata": {},
   "source": [
    "## 5. Given a dictionary with keys as letters and values as lists of letters, write a function closest_key to find the key with the input value closest to the beginning of the list."
   ]
  },
  {
   "cell_type": "code",
   "execution_count": null,
   "id": "92122367-bd33-4b59-aac3-ad69a49bcb67",
   "metadata": {},
   "outputs": [],
   "source": [
    "def closest_key(d, value):\n",
    "    closest = None\n",
    "    min_index = float('inf')\n",
    "    \n",
    "    for key, letters in d.items():\n",
    "        if value in letters:\n",
    "            index = letters.index(value)\n",
    "            if index < min_index:\n",
    "                min_index = index\n",
    "                closest = key\n",
    "                \n",
    "    return closest\n"
   ]
  }
 ],
 "metadata": {
  "kernelspec": {
   "display_name": "Python 3 (ipykernel)",
   "language": "python",
   "name": "python3"
  },
  "language_info": {
   "codemirror_mode": {
    "name": "ipython",
    "version": 3
   },
   "file_extension": ".py",
   "mimetype": "text/x-python",
   "name": "python",
   "nbconvert_exporter": "python",
   "pygments_lexer": "ipython3",
   "version": "3.12.4"
  }
 },
 "nbformat": 4,
 "nbformat_minor": 5
}
